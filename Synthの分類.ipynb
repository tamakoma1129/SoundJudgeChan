{
  "nbformat": 4,
  "nbformat_minor": 0,
  "metadata": {
    "colab": {
      "provenance": [],
      "authorship_tag": "ABX9TyOFkRnxHoK1qAqSGOeMNAHR",
      "include_colab_link": true
    },
    "kernelspec": {
      "name": "python3",
      "display_name": "Python 3"
    },
    "language_info": {
      "name": "python"
    }
  },
  "cells": [
    {
      "cell_type": "markdown",
      "metadata": {
        "id": "view-in-github",
        "colab_type": "text"
      },
      "source": [
        "<a href=\"https://colab.research.google.com/github/tamakoma1129/Synthesizer-Sound-Classification-with-SVM/blob/main/Synth%E3%81%AE%E5%88%86%E9%A1%9E.ipynb\" target=\"_parent\"><img src=\"https://colab.research.google.com/assets/colab-badge.svg\" alt=\"Open In Colab\"/></a>"
      ]
    },
    {
      "cell_type": "code",
      "execution_count": null,
      "metadata": {
        "id": "1cjPw5NS4IcZ"
      },
      "outputs": [],
      "source": [
        "import os\n",
        "import glob\n",
        "import numpy as np\n",
        "from sklearn import svm\n",
        "from sklearn.model_selection import train_test_split\n",
        "from sklearn.preprocessing import LabelEncoder\n",
        "import librosa\n",
        "from sklearn.metrics import confusion_matrix\n",
        "from sklearn.metrics import ConfusionMatrixDisplay\n",
        "import matplotlib.pyplot as plt\n",
        "import random\n",
        "\n",
        "max_length = int(44100 * 0.2)  # 今回は6秒でパディングするので、44100Hz*6\n",
        "\n",
        "def load_and_pad(file_path):\n",
        "    y, sr = librosa.load(file_path, sr=None)\n",
        "    if len(y) > max_length:\n",
        "        y = y[:max_length]  # If もし長ければ切る\n",
        "    else:\n",
        "        y = np.pad(y, (0, max_length - len(y)))  # もし短ければ増やす\n",
        "    return y\n",
        "\n",
        "# フォルダ名とそのラベルを格納するリスト\n",
        "data = []\n",
        "labels = []\n",
        "\n",
        "# フォルダのパスを指定します (e.g., \"/content/drive/My Drive/A/data/\")\n",
        "base_folder_path = \"/content/drive/MyDrive/ドラム音源の分類/data\"\n",
        "\n",
        "# フォルダ内のサブフォルダ（ジャンル）を一つひとつ見ていきます\n",
        "for genre_folder in os.listdir(base_folder_path):\n",
        "    # サブフォルダ内の全ての.wavファイルに対して処理を行います\n",
        "    for filename in glob.glob(os.path.join(base_folder_path, genre_folder, '*.wav')):\n",
        "        # 音声ファイルの読み込みとパディング\n",
        "        y = load_and_pad(filename)\n",
        "        # MFCCの計算\n",
        "        mfccs = librosa.feature.mfcc(y=y, sr=176400, n_mfcc=40)\n",
        "        data.append(mfccs.flatten())  # SVMの入力に合わせデータをフラット化します\n",
        "        labels.append(genre_folder)  # フォルダ名（ジャンル名）をラベルとして追加\n",
        "\n",
        "# ラベル（ジャンル名）を数値に変換します。例えば、'CHihat' -> 0, 'OHihat' -> 1のような変換を行います\n",
        "encoder = LabelEncoder()\n",
        "labels = encoder.fit_transform(labels)\n",
        "\n",
        "accuracy100 = 0\n",
        "accuracy_list = []\n",
        "cm100 = np.zeros((len(encoder.classes_), len(encoder.classes_)))\n",
        "for _ in range(100):\n",
        "  # データとラベルを訓練データとテストデータに分割します\n",
        "  X_train, X_test, y_train, y_test = train_test_split(data, labels, test_size=0.2, random_state=random.randint(1,10000))\n",
        "\n",
        "  # SVMのモデルを作成し、訓練データで学習します\n",
        "  model = svm.SVC()\n",
        "  model.fit(X_train, y_train)\n",
        "\n",
        "  # テストデータでモデルの精度を確認します\n",
        "  accuracy = model.score(X_test, y_test)\n",
        "  accuracy_list.append(accuracy)\n",
        "  print(\"Accuracy: \", accuracy)\n",
        "  accuracy100+=accuracy\n",
        "  # テストデータの予測値を得ます\n",
        "  y_pred = model.predict(X_test)\n",
        "\n",
        "  # 混同行列を計算し、加算します\n",
        "  cm = confusion_matrix(y_test, y_pred)\n",
        "  cm100 += cm\n",
        "\n",
        "\n",
        "accuracy_std = np.std(accuracy_list)\n",
        "print(\"標準偏差: \", accuracy_std)\n",
        "print(\"平均正答率\",accuracy100/100)\n",
        "# 混同行列の平均を計算します\n",
        "cm_avg = cm100 / 100\n",
        "\n",
        "\n",
        "# 混同行列をプロットします\n",
        "disp = ConfusionMatrixDisplay(confusion_matrix=cm_avg,display_labels=model.classes_)\n",
        "disp.plot()\n",
        "plt.show()\n",
        "cnt=0\n",
        "# 各ラベルに対応した名前を表示します\n",
        "for i in encoder.classes_:\n",
        "  print(f\"{cnt}:{i}\")\n",
        "  cnt+=1"
      ]
    }
  ]
}